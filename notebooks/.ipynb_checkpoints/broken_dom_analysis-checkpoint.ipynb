{
 "cells": [
  {
   "cell_type": "markdown",
   "metadata": {},
   "source": [
    "# Анализ битых DOM-элементов с использованием машинного обучения\n",
    "\n",
    "Данный ноутбук представляет собой исследование методов обнаружения битых DOM-элементов на веб-страницах с использованием методов машинного обучения.\n",
    "\n",
    "## Задача\n",
    "Разработать систему, которая исследует DOM-структуру веб-страницы и выявляет битые элементы.\n",
    "\n",
    "### Критерии отнесения к \"битым\" элементам:\n",
    "1. Пустые или отсутствующие ключевые атрибуты (src, href, type, alt)\n",
    "2. Скрытые элементы, участвующие в логике интерфейса\n",
    "3. Конфликт CSS-стилей, делающий элемент невидимым\n",
    "4. Повреждённые вложенные структуры (например, незакрытые теги, вложенные ссылки и т.д.)"
   ]
  },
  {
   "cell_type": "markdown",
   "metadata": {},
   "source": [
    "## Импорт необходимых библиотек"
   ]
  },
  {
   "cell_type": "code",
   "execution_count": 1,
   "metadata": {},
   "outputs": [
    {
     "ename": "ModuleNotFoundError",
     "evalue": "No module named 'faker'",
     "output_type": "error",
     "traceback": [
      "\u001b[0;31m---------------------------------------------------------------------------\u001b[0m",
      "\u001b[0;31mModuleNotFoundError\u001b[0m                       Traceback (most recent call last)",
      "Cell \u001b[0;32mIn[1], line 14\u001b[0m\n\u001b[1;32m     12\u001b[0m \u001b[38;5;66;03m# Добавляем директорию src в путь для импорта\u001b[39;00m\n\u001b[1;32m     13\u001b[0m sys\u001b[38;5;241m.\u001b[39mpath\u001b[38;5;241m.\u001b[39mappend(\u001b[38;5;124m'\u001b[39m\u001b[38;5;124m../src\u001b[39m\u001b[38;5;124m'\u001b[39m)\n\u001b[0;32m---> 14\u001b[0m \u001b[38;5;28;01mfrom\u001b[39;00m \u001b[38;5;21;01mdata_generator\u001b[39;00m \u001b[38;5;28;01mimport\u001b[39;00m generate_synthetic_data, save_data\n\u001b[1;32m     16\u001b[0m \u001b[38;5;66;03m# Устанавливаем стиль для графиков\u001b[39;00m\n\u001b[1;32m     17\u001b[0m sns\u001b[38;5;241m.\u001b[39mset(style\u001b[38;5;241m=\u001b[39m\u001b[38;5;124m'\u001b[39m\u001b[38;5;124mwhitegrid\u001b[39m\u001b[38;5;124m'\u001b[39m)\n",
      "File \u001b[0;32m~/PycharmProjects/dom-c/notebooks/../src/data_generator.py:4\u001b[0m\n\u001b[1;32m      2\u001b[0m \u001b[38;5;28;01mimport\u001b[39;00m \u001b[38;5;21;01mnumpy\u001b[39;00m \u001b[38;5;28;01mas\u001b[39;00m \u001b[38;5;21;01mnp\u001b[39;00m\n\u001b[1;32m      3\u001b[0m \u001b[38;5;28;01mimport\u001b[39;00m \u001b[38;5;21;01mrandom\u001b[39;00m\n\u001b[0;32m----> 4\u001b[0m \u001b[38;5;28;01mfrom\u001b[39;00m \u001b[38;5;21;01mfaker\u001b[39;00m \u001b[38;5;28;01mimport\u001b[39;00m Faker\n\u001b[1;32m      6\u001b[0m \u001b[38;5;66;03m# Инициализация генератора случайных данных\u001b[39;00m\n\u001b[1;32m      7\u001b[0m fake \u001b[38;5;241m=\u001b[39m Faker()\n",
      "\u001b[0;31mModuleNotFoundError\u001b[0m: No module named 'faker'"
     ]
    }
   ],
   "source": [
    "import pandas as pd\n",
    "import numpy as np\n",
    "import matplotlib.pyplot as plt\n",
    "import seaborn as sns\n",
    "from sklearn.model_selection import train_test_split, cross_val_score, GridSearchCV\n",
    "from sklearn.ensemble import RandomForestClassifier\n",
    "from sklearn.metrics import classification_report, confusion_matrix, accuracy_score, precision_recall_curve, roc_curve, auc\n",
    "import joblib\n",
    "import os\n",
    "import sys\n",
    "\n",
    "# Добавляем директорию src в путь для импорта\n",
    "sys.path.append('../src')\n",
    "from data_generator import generate_synthetic_data, save_data\n",
    "\n",
    "# Устанавливаем стиль для графиков\n",
    "sns.set(style='whitegrid')\n",
    "plt.rcParams['figure.figsize'] = (10, 6)"
   ]
  },
  {
   "cell_type": "markdown",
   "metadata": {},
   "source": [
    "## Генерация данных\n",
    "\n",
    "Генерируем синтетические данные для обучения модели, если они еще не созданы"
   ]
  },
  {
   "cell_type": "code",
   "execution_count": null,
   "metadata": {},
   "outputs": [],
   "source": [
    "# Проверяем наличие данных или генерируем их\n",
    "if not os.path.exists('../data/dom_elements.csv'):\n",
    "    print(\"Данные не найдены. Запуск генерации синтетических данных...\")\n",
    "    df = generate_synthetic_data(n_samples=5000)\n",
    "    save_data(df)\n",
    "else:\n",
    "    print(\"Данные уже существуют. Загружаем из файла...\")\n",
    "    df = pd.read_csv('../data/dom_elements.csv')\n",
    "\n",
    "print(f\"Загружено {len(df)} записей\")\n",
    "print(f\"Из них битых элементов: {df['is_broken'].sum()} ({df['is_broken'].mean()*100:.2f}%)\")\n",
    "df.head()"
   ]
  },
  {
   "cell_type": "markdown",
   "metadata": {},
   "source": [
    "## Разведочный анализ данных\n",
    "\n",
    "Исследуем структуру и распределение данных для лучшего понимания проблемы"
   ]
  },
  {
   "cell_type": "code",
   "execution_count": null,
   "metadata": {},
   "outputs": [],
   "source": [
    "# Общая информация о датасете\n",
    "print(\"Информация о датасете:\")\n",
    "df.info()"
   ]
  },
  {
   "cell_type": "code",
   "execution_count": null,
   "metadata": {},
   "outputs": [],
   "source": [
    "# Статистика по числовым признакам\n",
    "df.describe()"
   ]
  },
  {
   "cell_type": "code",
   "execution_count": null,
   "metadata": {},
   "outputs": [],
   "source": [
    "# Распределение целевой переменной\n",
    "plt.figure(figsize=(8, 6))\n",
    "sns.countplot(x='is_broken', data=df)\n",
    "plt.title('Распределение целевой переменной')\n",
    "plt.xlabel('Битый элемент (1 - да, 0 - нет)')\n",
    "plt.ylabel('Количество')\n",
    "plt.show()"
   ]
  },
  {
   "cell_type": "code",
   "execution_count": null,
   "metadata": {},
   "outputs": [],
   "source": [
    "# Корреляционная матрица\n",
    "plt.figure(figsize=(12, 10))\n",
    "corr = df.corr()\n",
    "mask = np.triu(np.ones_like(corr, dtype=bool))\n",
    "sns.heatmap(corr, mask=mask, annot=True, cmap='coolwarm', vmin=-1, vmax=1)\n",
    "plt.title('Корреляционная матрица признаков')\n",
    "plt.tight_layout()\n",
    "plt.show()"
   ]
  },
  {
   "cell_type": "code",
   "execution_count": null,
   "metadata": {},
   "outputs": [],
   "source": [
    "# Распределение по типам тегов\n",
    "plt.figure(figsize=(12, 6))\n",
    "tag_counts = df['tag'].value_counts()\n",
    "sns.barplot(x=tag_counts.index, y=tag_counts.values)\n",
    "plt.title('Количество элементов по типам тегов')\n",
    "plt.xlabel('Тег')\n",
    "plt.ylabel('Количество')\n",
    "plt.xticks(rotation=45)\n",
    "plt.tight_layout()\n",
    "plt.show()"
   ]
  },
  {
   "cell_type": "code",
   "execution_count": null,
   "metadata": {},
   "outputs": [],
   "source": [
    "# Доля битых элементов по типам тегов\n",
    "plt.figure(figsize=(12, 6))\n",
    "tag_broken = df.groupby('tag')['is_broken'].mean().sort_values(ascending=False)\n",
    "sns.barplot(x=tag_broken.index, y=tag_broken.values)\n",
    "plt.title('Доля битых элементов по типам тегов')\n",
    "plt.xlabel('Тег')\n",
    "plt.ylabel('Доля битых элементов')\n",
    "plt.xticks(rotation=45)\n",
    "plt.tight_layout()\n",
    "plt.show()"
   ]
  },
  {
   "cell_type": "markdown",
   "metadata": {},
   "source": [
    "## Подготовка данных для обучения\n",
    "\n",
    "Подготавливаем данные для обучения модели: кодируем категориальные признаки и разделяем на обучающую и тестовую выборки"
   ]
  },
  {
   "cell_type": "code",
   "execution_count": null,
   "metadata": {},
   "outputs": [],
   "source": [
    "# Преобразуем категориальные признаки\n",
    "df_encoded = pd.get_dummies(df, columns=['tag'], drop_first=True)\n",
    "\n",
    "# Разделяем признаки и целевую переменную\n",
    "X = df_encoded.drop('is_broken', axis=1)\n",
    "y = df_encoded['is_broken']\n",
    "\n",
    "# Разделяем данные на обучающую и тестовую выборки\n",
    "X_train, X_test, y_train, y_test = train_test_split(X, y, test_size=0.3, random_state=42, stratify=y)\n",
    "\n",
    "print(f\"Размер обучающей выборки: {X_train.shape}\")\n",
    "print(f\"Размер тестовой выборки: {X_test.shape}\")"
   ]
  },
  {
   "cell_type": "markdown",
   "metadata": {},
   "source": [
    "## Сравнение различных алгоритмов машинного обучения\n",
    "\n",
    "Сравниваем различные алгоритмы классификации для выбора наиболее подходящего"
   ]
  },
  {
   "cell_type": "code",
   "execution_count": null,
   "metadata": {},
   "outputs": [],
   "source": [
    "from sklearn.linear_model import LogisticRegression\n",
    "from sklearn.svm import SVC\n",
    "from sklearn.neighbors import KNeighborsClassifier\n",
    "from sklearn.tree import DecisionTreeClassifier\n",
    "from sklearn.ensemble import GradientBoostingClassifier\n",
    "\n",
    "# Определяем модели для сравнения\n",
    "models = {\n",
    "    'Логистическая регрессия': LogisticRegression(max_iter=1000, random_state=42),\n",
    "    'K-ближайших соседей': KNeighborsClassifier(),\n",
    "    'Дерево решений': DecisionTreeClassifier(random_state=42),\n",
    "    'Случайный лес': RandomForestClassifier(n_estimators=100, random_state=42),\n",
    "    'Градиентный бустинг': GradientBoostingClassifier(random_state=42)\n",
    "}\n",
    "\n",
    "# Сравниваем модели по метрикам\n",
    "results = {}\n",
    "for name, model in models.items():\n",
    "    print(f\"Оценка модели: {name}...\")\n",
    "    # Используем кросс-валидацию для более надежной оценки\n",
    "    cv_accuracy = cross_val_score(model, X, y, cv=5, scoring='accuracy')\n",
    "    cv_f1 = cross_val_score(model, X, y, cv=5, scoring='f1')\n",
    "    cv_precision = cross_val_score(model, X, y, cv=5, scoring='precision')\n",
    "    cv_recall = cross_val_score(model, X, y, cv=5, scoring='recall')\n",
    "    \n",
    "    results[name] = {\n",
    "        'accuracy': cv_accuracy.mean(),\n",
    "        'f1': cv_f1.mean(),\n",
    "        'precision': cv_precision.mean(),\n",
    "        'recall': cv_recall.mean()\n",
    "    }\n",
    "\n",
    "# Преобразуем результаты в DataFrame для удобного отображения\n",
    "results_df = pd.DataFrame(results).T\n",
    "results_df"
   ]
  },
  {
   "cell_type": "code",
   "execution_count": null,
   "metadata": {},
   "outputs": [],
   "source": [
    "# Визуализируем результаты сравнения моделей\n",
    "plt.figure(figsize=(15, 10))\n",
    "\n",
    "# Accuracy\n",
    "plt.subplot(2, 2, 1)\n",
    "sns.barplot(x=results_df.index, y=results_df['accuracy'])\n",
    "plt.title('Accuracy')\n",
    "plt.xticks(rotation=45)\n",
    "plt.ylim(0.8, 1.0)\n",
    "\n",
    "# F1-score\n",
    "plt.subplot(2, 2, 2)\n",
    "sns.barplot(x=results_df.index, y=results_df['f1'])\n",
    "plt.title('F1-score')\n",
    "plt.xticks(rotation=45)\n",
    "plt.ylim(0.7, 1.0)\n",
    "\n",
    "# Precision\n",
    "plt.subplot(2, 2, 3)\n",
    "sns.barplot(x=results_df.index, y=results_df['precision'])\n",
    "plt.title('Precision')\n",
    "plt.xticks(rotation=45)\n",
    "plt.ylim(0.7, 1.0)\n",
    "\n",
    "# Recall\n",
    "plt.subplot(2, 2, 4)\n",
    "sns.barplot(x=results_df.index, y=results_df['recall'])\n",
    "plt.title('Recall')\n",
    "plt.xticks(rotation=45)\n",
    "plt.ylim(0.7, 1.0)\n",
    "\n",
    "plt.tight_layout()\n",
    "plt.show()"
   ]
  },
  {
   "cell_type": "markdown",
   "metadata": {},
   "source": [
    "## Обучение модели Random Forest\n",
    "\n",
    "Согласно требованиям, используем Random Forest для основной модели. Проведем оптимизацию гиперпараметров с помощью GridSearchCV."
   ]
  },
  {
   "cell_type": "code",
   "execution_count": null,
   "metadata": {},
   "outputs": [],
   "source": [
    "# Определяем параметры для поиска\n",
    "param_grid = {\n",
    "    'n_estimators': [50, 100, 200],\n",
    "    'max_depth': [None, 10, 20, 30],\n",
    "    'min_samples_split': [2, 5, 10],\n",
    "    'min_samples_leaf': [1, 2, 4]\n",
    "}\n",
    "\n",
    "# Создаем базовую модель\n",
    "rf = RandomForestClassifier(random_state=42)\n",
    "\n",
    "# Поиск оптимальных параметров с помощью перекрестной проверки\n",
    "grid_search = GridSearchCV(\n",
    "    estimator=rf, \n",
    "    param_grid=param_grid, \n",
    "    cv=5, \n",
    "    n_jobs=-1, \n",
    "    verbose=1, \n",
    "    scoring='f1'\n",
    ")\n",
    "\n",
    "grid_search.fit(X_train, y_train)\n",
    "\n",
    "# Выводим лучшие параметры\n",
    "print(f\"Лучшие параметры: {grid_search.best_params_}\")\n",
    "print(f\"Лучший F1-score: {grid_search.best_score_:.4f}\")\n",
    "\n",
    "# Получаем лучшую модель\n",
    "best_rf = grid_search.best_estimator_"
   ]
  },
  {
   "cell_type": "markdown",
   "metadata": {},
   "source": [
    "## Оценка качества модели\n",
    "\n",
    "Оцениваем качество обученной модели на тестовой выборке"
   ]
  },
  {
   "cell_type": "code",
   "execution_count": null,
   "metadata": {},
   "outputs": [],
   "source": [
    "# Прогнозы на обучающей выборке\n",
    "y_train_pred = best_rf.predict(X_train)\n",
    "train_accuracy = accuracy_score(y_train, y_train_pred)\n",
    "\n",
    "# Прогнозы на тестовой выборке\n",
    "y_pred = best_rf.predict(X_test)\n",
    "test_accuracy = accuracy_score(y_test, y_pred)\n",
    "\n",
    "print(f\"Accuracy на обучающей выборке: {train_accuracy:.4f}\")\n",
    "print(f\"Accuracy на тестовой выборке: {test_accuracy:.4f}\")\n",
    "\n",
    "print(\"\\nОтчет о классификации:\")\n",
    "print(classification_report(y_test, y_pred))"
   ]
  },
  {
   "cell_type": "code",
   "execution_count": null,
   "metadata": {},
   "outputs": [],
   "source": [
    "# Матрица ошибок\n",
    "plt.figure(figsize=(8, 6))\n",
    "cm = confusion_matrix(y_test, y_pred)\n",
    "sns.heatmap(cm, annot=True, fmt='d', cmap='Blues')\n",
    "plt.title('Матрица ошибок')\n",
    "plt.xlabel('Предсказанный класс')\n",
    "plt.ylabel('Истинный класс')\n",
    "plt.show()"
   ]
  },
  {
   "cell_type": "code",
   "execution_count": null,
   "metadata": {},
   "outputs": [],
   "source": [
    "# ROC-кривая\n",
    "y_prob = best_rf.predict_proba(X_test)[:, 1]\n",
    "fpr, tpr, _ = roc_curve(y_test, y_prob)\n",
    "roc_auc = auc(fpr, tpr)\n",
    "\n",
    "plt.figure(figsize=(8, 6))\n",
    "plt.plot(fpr, tpr, color='darkorange', lw=2, label=f'ROC curve (area = {roc_auc:.2f})')\n",
    "plt.plot([0, 1], [0, 1], color='navy', lw=2, linestyle='--')\n",
    "plt.xlim([0.0, 1.0])\n",
    "plt.ylim([0.0, 1.05])\n",
    "plt.xlabel('False Positive Rate')\n",
    "plt.ylabel('True Positive Rate')\n",
    "plt.title('Receiver Operating Characteristic (ROC)')\n",
    "plt.legend(loc=\"lower right\")\n",
    "plt.show()"
   ]
  },
  {
   "cell_type": "code",
   "execution_count": null,
   "metadata": {},
   "outputs": [],
   "source": [
    "# Precision-Recall кривая\n",
    "precision, recall, _ = precision_recall_curve(y_test, y_prob)\n",
    "\n",
    "plt.figure(figsize=(8, 6))\n",
    "plt.plot(recall, precision, color='blue', lw=2)\n",
    "plt.xlabel('Recall')\n",
    "plt.ylabel('Precision')\n",
    "plt.title('Precision-Recall Curve')\n",
    "plt.show()"
   ]
  },
  {
   "cell_type": "code",
   "execution_count": null,
   "metadata": {},
   "outputs": [],
   "source": [
    "# Важность признаков\n",
    "plt.figure(figsize=(12, 10))\n",
    "feature_importance = pd.DataFrame(\n",
    "    {'feature': X_train.columns, 'importance': best_rf.feature_importances_}\n",
    ").sort_values('importance', ascending=False)\n",
    "\n",
    "sns.barplot(x='importance', y='feature', data=feature_importance.head(20))\n",
    "plt.title('Важность признаков')\n",
    "plt.tight_layout()\n",
    "plt.show()"
   ]
  },
  {
   "cell_type": "markdown",
   "metadata": {},
   "source": [
    "## Сохранение модели\n",
    "\n",
    "Сохраняем обученную модель для дальнейшего использования"
   ]
  },
  {
   "cell_type": "code",
   "execution_count": null,
   "metadata": {},
   "outputs": [],
   "source": [
    "# Сохраняем модель\n",
    "os.makedirs('../models', exist_ok=True)\n",
    "joblib.dump(best_rf, '../models/random_forest_model.pkl')\n",
    "print(\"Модель сохранена в ../models/random_forest_model.pkl\")"
   ]
  },
  {
   "cell_type": "markdown",
   "metadata": {},
   "source": [
    "## Демонстрация работы модели на новых данных\n",
    "\n",
    "Проверяем работу модели на небольшом наборе новых данных"
   ]
  },
  {
   "cell_type": "code",
   "execution_count": null,
   "metadata": {},
   "outputs": [],
   "source": [
    "# Загружаем модель\n",
    "loaded_model = joblib.load('../models/random_forest_model.pkl')\n",
    "\n",
    "# Создаем небольшой набор тестовых данных\n",
    "test_elements = [\n",
    "    {\n",
    "        'tag': 'img',\n",
    "        'attr_count': 3,\n",
    "        'has_text': 0,\n",
    "        'depth': 4,\n",
    "        'has_empty_attr': 1,  # Пустой атрибут src\n",
    "        'visibility': 1,\n",
    "        'is_interactive': 0,\n",
    "        'has_display_none': 0,\n",
    "        'missing_required_attr': 1,\n",
    "        'css_conflict': 0,\n",
    "        'nested_structure_issue': 0\n",
    "    },\n",
    "    {\n",
    "        'tag': 'a',\n",
    "        'attr_count': 5,\n",
    "        'has_text': 1,\n",
    "        'depth': 3,\n",
    "        'has_empty_attr': 0,\n",
    "        'visibility': 1,\n",
    "        'is_interactive': 1,\n",
    "        'has_display_none': 0,\n",
    "        'missing_required_attr': 0,\n",
    "        'css_conflict': 0,\n",
    "        'nested_structure_issue': 0\n",
    "    },\n",
    "    {\n",
    "        'tag': 'button',\n",
    "        'attr_count': 2,\n",
    "        'has_text': 1,\n",
    "        'depth': 5,\n",
    "        'has_empty_attr': 0,\n",
    "        'visibility': 0,  # Невидимый\n",
    "        'is_interactive': 1,  # Интерактивный\n",
    "        'has_display_none': 1,  # Скрыт через CSS\n",
    "        'missing_required_attr': 0,\n",
    "        'css_conflict': 1,  # Конфликт стилей\n",
    "        'nested_structure_issue': 0\n",
    "    }\n",
    "]\n",
    "\n",
    "# Преобразуем в DataFrame\n",
    "test_df = pd.DataFrame(test_elements)\n",
    "\n",
    "# Кодируем категориальные признаки так же, как при обучении\n",
    "# Получаем список всех тегов из обучающих данных\n",
    "all_tags = df['tag'].unique()\n",
    "\n",
    "# Создаем dummy-переменные для тестовых данных с тем же набором категорий\n",
    "test_encoded = pd.get_dummies(test_df, columns=['tag'])\n",
    "\n",
    "# Добавляем отсутствующие столбцы и удаляем лишние\n",
    "for tag in all_tags:\n",
    "    if f'tag_{tag}' not in test_encoded.columns and tag != all_tags[0]:  # Пропускаем первый тег (drop_first=True)\n",
    "        test_encoded[f'tag_{tag}'] = 0\n",
    "\n",
    "# Приводим столбцы к тому же порядку, что и в обучающих данных\n",
    "missing_cols = set(X.columns) - set(test_encoded.columns)\n",
    "for col in missing_cols:\n",
    "    test_encoded[col] = 0\n",
    "test_encoded = test_encoded[X.columns]\n",
    "\n",
    "# Делаем предсказания\n",
    "predictions = loaded_model.predict(test_encoded)\n",
    "probabilities = loaded_model.predict_proba(test_encoded)[:, 1]\n",
    "\n",
    "# Добавляем результаты в исходный DataFrame\n",
    "test_df['predicted_broken'] = predictions\n",
    "test_df['probability_broken'] = probabilities\n",
    "\n",
    "# Выводим результаты\n",
    "print(\"Результаты предсказаний для тестовых элементов:\")\n",
    "print(test_df[[\"tag\", \"has_empty_attr\", \"visibility\", \"is_interactive\", \n",
    "              \"has_display_none\", \"css_conflict\", \"predicted_broken\", \"probability_broken\"]])"
   ]
  },
  {
   "cell_type": "markdown",
   "metadata": {},
   "source": [
    "## Заключение\n",
    "\n",
    "В данном ноутбуке мы разработали и обучили модель машинного обучения для выявления битых DOM-элементов на веб-страницах. Основные выводы:\n",
    "\n",
    "1. Модель Random Forest показала хорошие результаты на тестовых данных\n",
    "2. Наиболее важными признаками для определения битых элементов оказались...\n",
    "3. Для дальнейшего улучшения модели можно...\n",
    "\n",
    "Модель может быть интегрирована в инструменты веб-разработки для автоматического выявления проблемных элементов на сайтах."
   ]
  }
 ],
 "metadata": {
  "kernelspec": {
   "display_name": "Python 3 (ipykernel)",
   "language": "python",
   "name": "python3"
  },
  "language_info": {
   "codemirror_mode": {
    "name": "ipython",
    "version": 3
   },
   "file_extension": ".py",
   "mimetype": "text/x-python",
   "name": "python",
   "nbconvert_exporter": "python",
   "pygments_lexer": "ipython3",
   "version": "3.10.9"
  }
 },
 "nbformat": 4,
 "nbformat_minor": 4
}
